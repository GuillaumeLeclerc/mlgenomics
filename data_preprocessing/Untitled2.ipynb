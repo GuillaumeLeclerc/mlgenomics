{
 "cells": [
  {
   "cell_type": "code",
   "execution_count": 1,
   "metadata": {},
   "outputs": [],
   "source": [
    "# updated Nov 10, 2020\n",
    "\n",
    "# load libraries\n",
    "\n",
    "from __future__ import print_function\n",
    "from scipy.spatial import ConvexHull\n",
    "from skimage.transform import downscale_local_mean\n",
    "from matplotlib.patches import Polygon\n",
    "from matplotlib.collections import PatchCollection\n",
    "from skimage.measure import regionprops\n",
    "import numpy as np\n",
    "import matplotlib.pyplot as plt\n",
    "import os as os\n",
    "from tqdm import tqdm as tqdm_base\n",
    "def tqdm(*args, **kwargs):\n",
    "    if hasattr(tqdm_base, '_instances'):\n",
    "        for instance in list(tqdm_base._instances):\n",
    "            tqdm_base._decr_instances(instance)\n",
    "    return tqdm_base(*args, **kwargs)\n",
    "from scipy.io import loadmat\n",
    "import numpy as np\n",
    "import pandas as pd\n",
    "\n",
    "\n",
    "# define functions\n",
    "\n",
    "# function modified from here: https://github.com/weallen/STARmap/blob/master/python/analysis.py\n",
    "def load_data(data_dir, prefix=\"Cell\"):\n",
    "        #expr = pd.read_csv(os.path.join(data_dir, \"data_table.csv\"), index_col=0)\n",
    "    expr = pd.read_csv(os.path.join(data_dir, \"cell_barcode_count.csv\"), header=None)\n",
    "    gene_names = pd.read_csv(os.path.join(data_dir, \"cell_barcode_names.csv\"),header=None)\n",
    "    rownames = [i for i in range(expr.shape[0])]\n",
    "    names = gene_names[2]\n",
    "    names.name = \"Gene\"\n",
    "    return pd.DataFrame(data=expr.values, columns=names, index=rownames)\n",
    "\n",
    "# function modified from https://github.com/weallen/STARmap/blob/master/python/viz.py\n",
    "def GetQHulls(labels):\n",
    "    labels += 1\n",
    "    Nlabels = labels.max()\n",
    "    hulls = []\n",
    "    coords = []\n",
    "    num_cells = 0\n",
    "    #cell_id = []\n",
    "    #print('blah')\n",
    "    for i in tqdm(range(Nlabels)):#enumerate(regionprops(labels)):\n",
    "        #print(i,\"/\",Nlabels)\n",
    "        curr_coords = np.argwhere(labels==i) # get all coordinates for a single cell label\n",
    "        # size threshold of > 100 pixels and < 100000\n",
    "        if curr_coords.shape[0] < 100000 and curr_coords.shape[0] > 1000: # if the cell shape is within threshold region, save the coordinates\n",
    "            num_cells += 1\n",
    "            hulls.append(ConvexHull(curr_coords))\n",
    "            coords.append(curr_coords)\n",
    "        #cell_id = np.append(cell_id, i)\n",
    "    #print(\"Used %d / %d\" % (num_cells, Nlabels))\n",
    "    return hulls, coords\n",
    "\n",
    "## my functions:\n",
    "def normalize(counts):\n",
    "\n",
    "    cts = np.array(counts)\n",
    "    #index = np.array(np.where(np.sum(cts, axis = 1)!=0)).flatten()\n",
    "    #cts = cts[index,:] # remove cells, where total library count is zero\n",
    "    cts = cts + 0.001\n",
    "    cell_sum = np.sum(cts, axis = 1) # get row-wise sum\n",
    "    counts_out = cts/(np.tile(cell_sum, (cts.shape[1],1)).transpose()) # divide each column by row-wise sum\n",
    "\n",
    "    return counts_out\n",
    "\n",
    "def process_2D(data_dir, gene_names,i):\n",
    "\n",
    "    # load data\n",
    "    image = np.load(os.path.join(data_dir,'labels.npz'))[\"labels\"]\n",
    "    counts = load_data(data_dir, prefix=\"\")\n",
    "\n",
    "    # process counts\n",
    "    normalized_counts = pd.DataFrame(normalize(counts)) # normalize counts\n",
    "    normalized_counts.columns = counts.columns\n",
    "    normalized_counts = normalized_counts.reindex(columns = sorted(gene_names))\n",
    "    normalized_counts = np.array(normalized_counts.fillna(0))\n",
    "\n",
    "    # get coords\n",
    "    qhulls,coords = GetQHulls(image)# get all coordinates corresponding to single cell\n",
    "    all_centroids  = np.vstack([np.append(c.mean(0),(0,i)) for c in coords]) # centroids are the average coordinates\n",
    "    all_centroids_normalized = all_centroids/abs(all_centroids).max()\n",
    "    #counts_and_coords = np.concatenate((normalized_counts, all_centroids.astype('int')[range(normalized_counts.shape[0]),:]), axis = 1) # concat counts and coords\n",
    "    counts_and_coords = np.concatenate((normalized_counts, all_centroids_normalized.astype('int')), axis = 1) # concat counts and coords\n",
    "    return counts_and_coords\n"
   ]
  },
  {
   "cell_type": "code",
   "execution_count": 2,
   "metadata": {},
   "outputs": [],
   "source": [
    "\n",
    "#  get union of all gene names (across 3D and 2D datasets)\n",
    "genenames_3D = pd.read_csv('/Users/work/Documents/GitHub/mlgenomics/data_as_downloaded/sequentially_encoded_Wang_et_al_2018/gene_names.csv', header = 0)\n",
    "\n",
    "dirs = os.listdir('/Users/work/Documents/GitHub/mlgenomics/data_as_downloaded/combinatorially_encoded/all_datasets')\n",
    "\n",
    "ct = []\n",
    "for i in range(len(dirs)):\n",
    "\n",
    "    data_dir1 = os.path.join('/Users/work/Documents/GitHub/mlgenomics/data_as_downloaded/combinatorially_encoded/all_datasets',dirs[i])\n",
    "    ct.append(load_data(data_dir1, prefix=\"\"))\n",
    "\n",
    "genenames = []\n",
    "for i in range(len(dirs)):\n",
    "    genenames.append(ct[i].columns)\n",
    "all_genes = np.unique(np.concatenate((np.unique(np.concatenate(genenames)),(np.array(genenames_3D).flatten()))))\n"
   ]
  },
  {
   "cell_type": "code",
   "execution_count": 4,
   "metadata": {},
   "outputs": [
    {
     "name": "stderr",
     "output_type": "stream",
     "text": [
      "100%|██████████| 975/975 [02:40<00:00,  6.06it/s]\n",
      "100%|██████████| 1328/1328 [04:36<00:00,  4.80it/s]\n"
     ]
    }
   ],
   "source": [
    "\n",
    "# process and append all the 2D datasets to one another\n",
    "\n",
    "data_out = []\n",
    "for i in range(2,4):\n",
    "    data_dir = os.path.join('/Users/work/Documents/GitHub/mlgenomics/data_as_downloaded/combinatorially_encoded/all_datasets',dirs[i])\n",
    "    data_out.append(process_2D(data_dir, all_genes,i))\n",
    "\n"
   ]
  },
  {
   "cell_type": "code",
   "execution_count": 71,
   "metadata": {},
   "outputs": [
    {
     "data": {
      "text/plain": [
       "matrix([[4.73888731e-06, 4.73888731e-06, 4.73888731e-06, ...,\n",
       "         0.00000000e+00, 0.00000000e+00, 0.00000000e+00],\n",
       "        [1.17210370e-03, 1.17093277e-06, 2.34303646e-03, ...,\n",
       "         0.00000000e+00, 0.00000000e+00, 0.00000000e+00],\n",
       "        [6.62163952e-06, 6.62163952e-06, 6.62163952e-06, ...,\n",
       "         0.00000000e+00, 0.00000000e+00, 0.00000000e+00],\n",
       "        ...,\n",
       "        [0.00000000e+00, 0.00000000e+00, 0.00000000e+00, ...,\n",
       "         8.33149171e-01, 5.19337017e-02, 3.30000000e+01],\n",
       "        [0.00000000e+00, 0.00000000e+00, 0.00000000e+00, ...,\n",
       "         7.67955801e-01, 5.19337017e-02, 3.30000000e+01],\n",
       "        [0.00000000e+00, 0.00000000e+00, 0.00000000e+00, ...,\n",
       "         6.52486188e-01, 5.19337017e-02, 3.30000000e+01]])"
      ]
     },
     "execution_count": 71,
     "metadata": {},
     "output_type": "execute_result"
    }
   ],
   "source": [
    "df = np.concatenate(data_out)\n",
    "np.concatenate((df, complete_3d))"
   ]
  },
  {
   "cell_type": "code",
   "execution_count": 70,
   "metadata": {},
   "outputs": [
    {
     "data": {
      "text/plain": [
       "matrix([[0.00000000e+00, 0.00000000e+00, 0.00000000e+00, ...,\n",
       "         3.17679558e-01, 3.86740331e-03, 3.30000000e+01],\n",
       "        [0.00000000e+00, 0.00000000e+00, 0.00000000e+00, ...,\n",
       "         5.93370166e-01, 4.41988950e-03, 3.30000000e+01],\n",
       "        [0.00000000e+00, 0.00000000e+00, 0.00000000e+00, ...,\n",
       "         6.43093923e-01, 3.31491713e-03, 3.30000000e+01],\n",
       "        ...,\n",
       "        [0.00000000e+00, 0.00000000e+00, 0.00000000e+00, ...,\n",
       "         8.33149171e-01, 5.19337017e-02, 3.30000000e+01],\n",
       "        [0.00000000e+00, 0.00000000e+00, 0.00000000e+00, ...,\n",
       "         7.67955801e-01, 5.19337017e-02, 3.30000000e+01],\n",
       "        [0.00000000e+00, 0.00000000e+00, 0.00000000e+00, ...,\n",
       "         6.52486188e-01, 5.19337017e-02, 3.30000000e+01]])"
      ]
     },
     "execution_count": 70,
     "metadata": {},
     "output_type": "execute_result"
    }
   ],
   "source": [
    "complete_3d"
   ]
  },
  {
   "cell_type": "code",
   "execution_count": 68,
   "metadata": {},
   "outputs": [],
   "source": [
    "counts_3d = loadmat('/Users/work/Documents/GitHub/mlgenomics/data_as_downloaded/sequentially_encoded_Wang_et_al_2018/20180123_BS10_light.mat')\n",
    "counts_3d_normalized = normalize(counts_3d['expr'])\n",
    "counts_3d_normalized = pd.DataFrame(counts_3d_normalized)\n",
    "counts_3d_normalized.columns =  np.array(genenames_3D[['gene']]).flatten()\n",
    "reindexed_3d = counts_3d_normalized.reindex(columns = (all_genes))\n",
    "reindexed_3d = np.array(reindexed_3d.fillna(0))\n",
    "coordinates_3d = np.matrix(counts_3d['goodLocs'])\n",
    "coordinates_3d_normalized = coordinates_3d/abs(coordinates_3d).max()\n",
    "complete_3d = np.concatenate((reindexed_3d, coordinates_3d_normalized), axis = 1)\n",
    "complete_3d = np.concatenate((complete_3d,np.repeat(33, complete_3d.shape[0]).reshape(complete_3d.shape[0],1)),axis=1)"
   ]
  },
  {
   "cell_type": "code",
   "execution_count": 72,
   "metadata": {},
   "outputs": [],
   "source": [
    "out = np.load('/Users/work/Documents/GitHub/mlgenomics/data_preprocessing/Wang_2018_all_2D_3D_processed.npz')['arr_0']"
   ]
  },
  {
   "cell_type": "code",
   "execution_count": 86,
   "metadata": {},
   "outputs": [],
   "source": [
    "df = np.array([2,4,5])\n",
    "f = df[None, :]-df[:, None]\n"
   ]
  },
  {
   "cell_type": "code",
   "execution_count": 85,
   "metadata": {},
   "outputs": [
    {
     "data": {
      "text/plain": [
       "array([2, 4, 5])"
      ]
     },
     "execution_count": 85,
     "metadata": {},
     "output_type": "execute_result"
    }
   ],
   "source": [
    "f"
   ]
  },
  {
   "cell_type": "code",
   "execution_count": 79,
   "metadata": {},
   "outputs": [
    {
     "data": {
      "text/plain": [
       "array([[2.70124257e-05, 2.70124257e-05, 2.70124257e-05, ...,\n",
       "        0.00000000e+00, 0.00000000e+00, 0.00000000e+00],\n",
       "       [1.19019281e-05, 1.19019281e-05, 1.19019281e-05, ...,\n",
       "        0.00000000e+00, 0.00000000e+00, 0.00000000e+00],\n",
       "       [1.07503763e-05, 1.07503763e-05, 1.07503763e-05, ...,\n",
       "        0.00000000e+00, 0.00000000e+00, 0.00000000e+00],\n",
       "       ...,\n",
       "       [0.00000000e+00, 0.00000000e+00, 0.00000000e+00, ...,\n",
       "        0.00000000e+00, 0.00000000e+00, 0.00000000e+00],\n",
       "       [0.00000000e+00, 0.00000000e+00, 0.00000000e+00, ...,\n",
       "        0.00000000e+00, 0.00000000e+00, 0.00000000e+00],\n",
       "       [0.00000000e+00, 0.00000000e+00, 0.00000000e+00, ...,\n",
       "        0.00000000e+00, 0.00000000e+00, 0.00000000e+00]])"
      ]
     },
     "execution_count": 79,
     "metadata": {},
     "output_type": "execute_result"
    }
   ],
   "source": [
    "out = np.load('/Users/work/Documents/GitHub/mlgenomics/data_preprocessing/Wang_2018_all_2D_3D_processed.npz')['arr_0']\n",
    "out[out[:,-1]==0,:]"
   ]
  },
  {
   "cell_type": "code",
   "execution_count": null,
   "metadata": {},
   "outputs": [],
   "source": [
    "\n",
    "coordinates_3d = np.matrix(counts_3d['goodLocs'])\n",
    "coordinates_3d_normalized = coordinates_3d/abs(coordinates_3d).max()\n",
    "\n",
    "complete_3d = np.concatenate((reindexed_3d, coordinates_3d_normalized), axis = 1)\n"
   ]
  },
  {
   "cell_type": "code",
   "execution_count": 17,
   "metadata": {},
   "outputs": [
    {
     "data": {
      "text/plain": [
       "array(['1110008F13Rik', '1110008P14Rik', '1700019D03Rik', ..., 'eRNA5',\n",
       "       'mCherry', 'mTFP'], dtype=object)"
      ]
     },
     "execution_count": 17,
     "metadata": {},
     "output_type": "execute_result"
    }
   ],
   "source": [
    "\n",
    "concatenated_3d = pd.concat([pd.DataFrame(counts_3d_normalized), pd.DataFrame(coordinates_3d_normalized)],axis=1)\n",
    "concatenated_3d = pd.concat([concatenated_3d,pd.DataFrame(np.repeat(33, concatenated_3d.shape[0]))], axis=1)\n",
    "concatenated_3d.columns =  np.append(np.array(genenames_3D[['gene']]).flatten(),(('x','y','z', 'dataset')))\n",
    "reindexed_3d =  concatenated_3d.reindex(columns = (all_genes))\n",
    "reindexed_3d = np.array(reindexed_3d.fillna(0))\n"
   ]
  },
  {
   "cell_type": "code",
   "execution_count": 16,
   "metadata": {},
   "outputs": [
    {
     "data": {
      "text/plain": [
       "(33598, 1030)"
      ]
     },
     "execution_count": 16,
     "metadata": {},
     "output_type": "execute_result"
    }
   ],
   "source": [
    "reindexed_3d.shape"
   ]
  },
  {
   "cell_type": "code",
   "execution_count": null,
   "metadata": {},
   "outputs": [],
   "source": [
    "# process the 3D datasets \n",
    "\n",
    "counts_3d = loadmat('/Users/work/Documents/GitHub/mlgenomics/data_as_downloaded/sequentially_encoded_Wang_et_al_2018/20180123_BS10_light.mat')\n",
    "counts_3d_normalized = normalize(counts_3d['expr'])\n",
    "coordinates_3d = np.matrix(counts_3d['goodLocs'])\n",
    "coordinates_3d_normalized = coordinates_3d/abs(coordinates_3d).max()\n",
    "concatenated_3d = pd.concat([pd.DataFrame(counts_3d_normalized), pd.DataFrame(coordinates_3d_normalized)],axis=1)\n",
    "concatenated_3d = pd.concat([concatenated_3d,pd.DataFrame(np.repeat(33, concatenated_3d.shape[0]))], axis=1)\n",
    "concatenated_3d.columns =  np.append(np.array(genenames_3D[['gene']]).flatten(),(('x','y','z', 'dataset')))\n",
    "reindexed_3d =  concatenated_3d.reindex(columns = (all_genes))\n",
    "reindexed_3d = np.array(reindexed_3d.fillna(0))\n",
    "\n",
    "# concatenate all data\n",
    "all_data = np.concatenate((np.concatenate(data_out), reindexed_3d))\n",
    "\n",
    "# save data out\n",
    "np.savez('Wang_2018_all_2D_3D_processed.npz',all_data)\n"
   ]
  },
  {
   "cell_type": "code",
   "execution_count": 22,
   "metadata": {},
   "outputs": [
    {
     "data": {
      "text/plain": [
       "array(['Slc17a7', 'Mgp', 'Gad1', 'Nov', 'Rasgrf2', 'Rorb', 'Cux2',\n",
       "       'Plcxd2', 'Sulf2', 'Ctgf', 'Pcp4', 'Sema3e', 'Npy', 'Sst', 'Pvalb',\n",
       "       'Vip', 'Calb2', 'Cck', 'Reln', 'Fos', 'Egr1', 'Prok2', 'Egr2',\n",
       "       'Bdnf', 'Gja1', 'Ctss', 'Mbp', 'Flt1', 'x', 'y', 'z', 'dataset'],\n",
       "      dtype=object)"
      ]
     },
     "execution_count": 22,
     "metadata": {},
     "output_type": "execute_result"
    }
   ],
   "source": [
    "\n",
    "counts_3d = loadmat('/Users/work/Documents/GitHub/mlgenomics/data_as_downloaded/sequentially_encoded_Wang_et_al_2018/20180123_BS10_light.mat')\n",
    "counts_3d_normalized = normalize(counts_3d['expr'])\n",
    "coordinates_3d = np.matrix(counts_3d['goodLocs'])\n",
    "coordinates_3d_normalized = coordinates_3d/abs(coordinates_3d).max()\n",
    "concatenated_3d = pd.concat([pd.DataFrame(counts_3d_normalized), pd.DataFrame(coordinates_3d_normalized)],axis=1)\n",
    "concatenated_3d = pd.concat([concatenated_3d,pd.DataFrame(np.repeat(33, concatenated_3d.shape[0]))], axis=1)\n",
    "concatenated_3d.columns =  np.append(np.array(genenames_3D[['gene']]).flatten(),(('x','y','z', 'dataset')))\n",
    "(np.append(np.array(genenames_3D[['gene']]).flatten(),(('x','y','z', 'dataset'))))\n"
   ]
  },
  {
   "cell_type": "code",
   "execution_count": 19,
   "metadata": {},
   "outputs": [
    {
     "data": {
      "text/plain": [
       "array([[0., 0., 0., ..., 0., 0., 0.],\n",
       "       [0., 0., 0., ..., 0., 0., 0.],\n",
       "       [0., 0., 0., ..., 0., 0., 0.],\n",
       "       ...,\n",
       "       [0., 0., 0., ..., 0., 0., 0.],\n",
       "       [0., 0., 0., ..., 0., 0., 0.],\n",
       "       [0., 0., 0., ..., 0., 0., 0.]])"
      ]
     },
     "execution_count": 19,
     "metadata": {},
     "output_type": "execute_result"
    }
   ],
   "source": [
    "reindexed_3d"
   ]
  },
  {
   "cell_type": "code",
   "execution_count": 5,
   "metadata": {},
   "outputs": [],
   "source": [
    "class Cat:\n",
    "    def __init__(self, name, age):\n",
    "        self.name = name\n",
    "        self.age = age\n",
    "\n",
    "    def info(self):\n",
    "        print(f\"I am a cat. My name is {self.name}. I am {self.age} years old.\")\n",
    "\n",
    "    def make_sound(self):\n",
    "        print(\"Meow\")"
   ]
  },
  {
   "cell_type": "code",
   "execution_count": 6,
   "metadata": {},
   "outputs": [],
   "source": [
    "cat1 = Cat('Andy', 2)\n",
    "cat2 = Cat('Phoebe', 3)"
   ]
  },
  {
   "cell_type": "code",
   "execution_count": 7,
   "metadata": {},
   "outputs": [
    {
     "data": {
      "text/plain": [
       "<__main__.Cat at 0x170600a58>"
      ]
     },
     "execution_count": 7,
     "metadata": {},
     "output_type": "execute_result"
    }
   ],
   "source": [
    "cat1"
   ]
  },
  {
   "cell_type": "code",
   "execution_count": 9,
   "metadata": {},
   "outputs": [
    {
     "name": "stdout",
     "output_type": "stream",
     "text": [
      "I am a cat. My name is Andy. I am 2 years old.\n"
     ]
    }
   ],
   "source": [
    "Cat.info(cat1)"
   ]
  },
  {
   "cell_type": "code",
   "execution_count": 10,
   "metadata": {},
   "outputs": [
    {
     "name": "stdout",
     "output_type": "stream",
     "text": [
      "Meow\n"
     ]
    }
   ],
   "source": [
    "Cat.make_sound(cat1)"
   ]
  },
  {
   "cell_type": "code",
   "execution_count": null,
   "metadata": {},
   "outputs": [],
   "source": []
  }
 ],
 "metadata": {
  "kernelspec": {
   "display_name": "Python 3",
   "language": "python",
   "name": "python3"
  },
  "language_info": {
   "codemirror_mode": {
    "name": "ipython",
    "version": 3
   },
   "file_extension": ".py",
   "mimetype": "text/x-python",
   "name": "python",
   "nbconvert_exporter": "python",
   "pygments_lexer": "ipython3",
   "version": "3.7.3"
  }
 },
 "nbformat": 4,
 "nbformat_minor": 2
}
